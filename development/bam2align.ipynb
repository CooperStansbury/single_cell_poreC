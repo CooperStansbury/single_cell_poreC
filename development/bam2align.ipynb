{
 "cells": [
  {
   "cell_type": "code",
   "execution_count": 49,
   "metadata": {},
   "outputs": [],
   "source": [
    "import numpy as np\n",
    "import pandas as pd\n",
    "import dask\n",
    "from importlib import reload\n",
    "\n",
    "import pysam\n",
    "from pysam import FastaFile, FastxFile\n",
    "from pysam import AlignmentFile\n",
    "from Bio import Restriction\n",
    "from Bio.Seq import Seq\n",
    "import pyranges as pr\n",
    "import networkx as nx\n",
    "\n",
    "from enum import Enum\n",
    "from typing import Dict, List, NewType, Optional\n",
    "from intake.source.base import DataSource, Schema\n",
    "import pyarrow as pa\n",
    "from pydantic import BaseModel, confloat, conint, constr\n",
    "\n",
    "import post_align\n",
    "import post_align_utils as putil"
   ]
  },
  {
   "cell_type": "code",
   "execution_count": null,
   "metadata": {},
   "outputs": [],
   "source": []
  },
  {
   "cell_type": "code",
   "execution_count": null,
   "metadata": {},
   "outputs": [],
   "source": []
  },
  {
   "cell_type": "code",
   "execution_count": 58,
   "metadata": {},
   "outputs": [
    {
     "data": {
      "text/plain": [
       "False"
      ]
     },
     "execution_count": 58,
     "metadata": {},
     "output_type": "execute_result"
    }
   ],
   "source": [
    "af = AlignmentFile(\"./NlaIII_run02_batch2_GRCm39.coord_sort.bam\")\n",
    "dir(af)\n",
    "\n",
    "af.has_index()"
   ]
  },
  {
   "cell_type": "code",
   "execution_count": 59,
   "metadata": {},
   "outputs": [
    {
     "data": {
      "text/plain": [
       "1"
      ]
     },
     "execution_count": 59,
     "metadata": {},
     "output_type": "execute_result"
    }
   ],
   "source": []
  },
  {
   "cell_type": "code",
   "execution_count": null,
   "metadata": {},
   "outputs": [],
   "source": []
  },
  {
   "cell_type": "code",
   "execution_count": null,
   "metadata": {},
   "outputs": [],
   "source": []
  },
  {
   "cell_type": "code",
   "execution_count": 2,
   "metadata": {},
   "outputs": [
    {
     "name": "stdout",
     "output_type": "stream",
     "text": [
      "(85437, 17)\n"
     ]
    }
   ],
   "source": [
    "reload(post_align)\n",
    "\n",
    "path = \"./NlaIII_run02_batch2_GRCm39.coord_sort.bam\"\n",
    "df = post_align.create_table(path)\n",
    "print(df.shape)"
   ]
  },
  {
   "cell_type": "code",
   "execution_count": 3,
   "metadata": {},
   "outputs": [
    {
     "name": "stdout",
     "output_type": "stream",
     "text": [
      "(12876595, 5)\n"
     ]
    }
   ],
   "source": [
    "reload(post_align)\n",
    "\n",
    "path = 'GCF_000001635.27_GRCm39_genomic.fna' \n",
    "fdf = post_align.create_virtual_digest(path, digest_param='NlaIII')\n",
    "print(fdf.shape)"
   ]
  },
  {
   "cell_type": "code",
   "execution_count": 104,
   "metadata": {},
   "outputs": [
    {
     "data": {
      "text/html": [
       "<div>\n",
       "<style scoped>\n",
       "    .dataframe tbody tr th:only-of-type {\n",
       "        vertical-align: middle;\n",
       "    }\n",
       "\n",
       "    .dataframe tbody tr th {\n",
       "        vertical-align: top;\n",
       "    }\n",
       "\n",
       "    .dataframe thead th {\n",
       "        text-align: right;\n",
       "    }\n",
       "</style>\n",
       "<table border=\"1\" class=\"dataframe\">\n",
       "  <thead>\n",
       "    <tr style=\"text-align: right;\">\n",
       "      <th></th>\n",
       "      <th>read_idx</th>\n",
       "      <th>align_idx</th>\n",
       "      <th>align_type</th>\n",
       "      <th>chrom</th>\n",
       "      <th>start</th>\n",
       "      <th>end</th>\n",
       "      <th>strand</th>\n",
       "      <th>read_name</th>\n",
       "      <th>read_length</th>\n",
       "      <th>read_start</th>\n",
       "      <th>read_end</th>\n",
       "      <th>mapping_quality</th>\n",
       "      <th>align_score</th>\n",
       "      <th>align_base_qscore</th>\n",
       "      <th>phase_set</th>\n",
       "      <th>phase_qual</th>\n",
       "      <th>haplotype</th>\n",
       "    </tr>\n",
       "  </thead>\n",
       "  <tbody>\n",
       "    <tr>\n",
       "      <th>15246</th>\n",
       "      <td>8034</td>\n",
       "      <td>61068</td>\n",
       "      <td>primary</td>\n",
       "      <td>NC_000068.8</td>\n",
       "      <td>146367157</td>\n",
       "      <td>146367382</td>\n",
       "      <td>False</td>\n",
       "      <td>00051e92-51de-4694-a986-83654849a5e5</td>\n",
       "      <td>1496</td>\n",
       "      <td>694</td>\n",
       "      <td>907</td>\n",
       "      <td>16</td>\n",
       "      <td>112</td>\n",
       "      <td>10</td>\n",
       "      <td>0</td>\n",
       "      <td>0</td>\n",
       "      <td>-1</td>\n",
       "    </tr>\n",
       "    <tr>\n",
       "      <th>15159</th>\n",
       "      <td>8034</td>\n",
       "      <td>61067</td>\n",
       "      <td>primary</td>\n",
       "      <td>NC_000068.8</td>\n",
       "      <td>144167507</td>\n",
       "      <td>144167702</td>\n",
       "      <td>False</td>\n",
       "      <td>00051e92-51de-4694-a986-83654849a5e5</td>\n",
       "      <td>1496</td>\n",
       "      <td>490</td>\n",
       "      <td>686</td>\n",
       "      <td>39</td>\n",
       "      <td>169</td>\n",
       "      <td>16</td>\n",
       "      <td>0</td>\n",
       "      <td>0</td>\n",
       "      <td>-1</td>\n",
       "    </tr>\n",
       "    <tr>\n",
       "      <th>15185</th>\n",
       "      <td>8034</td>\n",
       "      <td>61065</td>\n",
       "      <td>primary</td>\n",
       "      <td>NC_000068.8</td>\n",
       "      <td>144168062</td>\n",
       "      <td>144168528</td>\n",
       "      <td>True</td>\n",
       "      <td>00051e92-51de-4694-a986-83654849a5e5</td>\n",
       "      <td>1496</td>\n",
       "      <td>94</td>\n",
       "      <td>556</td>\n",
       "      <td>47</td>\n",
       "      <td>388</td>\n",
       "      <td>14</td>\n",
       "      <td>0</td>\n",
       "      <td>0</td>\n",
       "      <td>-1</td>\n",
       "    </tr>\n",
       "    <tr>\n",
       "      <th>15068</th>\n",
       "      <td>8034</td>\n",
       "      <td>61066</td>\n",
       "      <td>primary</td>\n",
       "      <td>NC_000068.8</td>\n",
       "      <td>141740110</td>\n",
       "      <td>141740574</td>\n",
       "      <td>True</td>\n",
       "      <td>00051e92-51de-4694-a986-83654849a5e5</td>\n",
       "      <td>1496</td>\n",
       "      <td>1002</td>\n",
       "      <td>1439</td>\n",
       "      <td>219</td>\n",
       "      <td>263</td>\n",
       "      <td>10</td>\n",
       "      <td>0</td>\n",
       "      <td>0</td>\n",
       "      <td>-1</td>\n",
       "    </tr>\n",
       "    <tr>\n",
       "      <th>85107</th>\n",
       "      <td>4442</td>\n",
       "      <td>33849</td>\n",
       "      <td>primary</td>\n",
       "      <td>NW_023337853.1</td>\n",
       "      <td>13495</td>\n",
       "      <td>13583</td>\n",
       "      <td>False</td>\n",
       "      <td>00055210-4698-4dbe-9fe6-28ee7cf02387</td>\n",
       "      <td>5651</td>\n",
       "      <td>4985</td>\n",
       "      <td>5075</td>\n",
       "      <td>8</td>\n",
       "      <td>84</td>\n",
       "      <td>13</td>\n",
       "      <td>0</td>\n",
       "      <td>0</td>\n",
       "      <td>-1</td>\n",
       "    </tr>\n",
       "  </tbody>\n",
       "</table>\n",
       "</div>"
      ],
      "text/plain": [
       "       read_idx  align_idx align_type           chrom      start        end  \\\n",
       "15246      8034      61068    primary     NC_000068.8  146367157  146367382   \n",
       "15159      8034      61067    primary     NC_000068.8  144167507  144167702   \n",
       "15185      8034      61065    primary     NC_000068.8  144168062  144168528   \n",
       "15068      8034      61066    primary     NC_000068.8  141740110  141740574   \n",
       "85107      4442      33849    primary  NW_023337853.1      13495      13583   \n",
       "\n",
       "       strand                             read_name  read_length  read_start  \\\n",
       "15246   False  00051e92-51de-4694-a986-83654849a5e5         1496         694   \n",
       "15159   False  00051e92-51de-4694-a986-83654849a5e5         1496         490   \n",
       "15185    True  00051e92-51de-4694-a986-83654849a5e5         1496          94   \n",
       "15068    True  00051e92-51de-4694-a986-83654849a5e5         1496        1002   \n",
       "85107   False  00055210-4698-4dbe-9fe6-28ee7cf02387         5651        4985   \n",
       "\n",
       "       read_end  mapping_quality  align_score  align_base_qscore  phase_set  \\\n",
       "15246       907               16          112                 10          0   \n",
       "15159       686               39          169                 16          0   \n",
       "15185       556               47          388                 14          0   \n",
       "15068      1439              219          263                 10          0   \n",
       "85107      5075                8           84                 13          0   \n",
       "\n",
       "       phase_qual  haplotype  \n",
       "15246           0         -1  \n",
       "15159           0         -1  \n",
       "15185           0         -1  \n",
       "15068           0         -1  \n",
       "85107           0         -1  "
      ]
     },
     "execution_count": 104,
     "metadata": {},
     "output_type": "execute_result"
    }
   ],
   "source": [
    "df.head()"
   ]
  },
  {
   "cell_type": "code",
   "execution_count": 4,
   "metadata": {},
   "outputs": [
    {
     "name": "stdout",
     "output_type": "stream",
     "text": [
      "(11176, 3)\n",
      "(0, 3)\n"
     ]
    }
   ],
   "source": [
    "tmp = df.groupby('read_idx', as_index=False).agg({\n",
    "    'align_idx':['count', 'nunique']\n",
    "})\n",
    "\n",
    "print(tmp.shape)\n",
    "\n",
    "mask = (tmp['align_idx']['count'] != tmp['align_idx']['nunique'])\n",
    "\n",
    "tmp = tmp[mask]\n",
    "print(tmp.shape)"
   ]
  },
  {
   "cell_type": "code",
   "execution_count": 86,
   "metadata": {},
   "outputs": [],
   "source": []
  },
  {
   "cell_type": "code",
   "execution_count": null,
   "metadata": {},
   "outputs": [],
   "source": []
  },
  {
   "cell_type": "code",
   "execution_count": 117,
   "metadata": {},
   "outputs": [
    {
     "data": {
      "text/html": [
       "<div>\n",
       "<style scoped>\n",
       "    .dataframe tbody tr th:only-of-type {\n",
       "        vertical-align: middle;\n",
       "    }\n",
       "\n",
       "    .dataframe tbody tr th {\n",
       "        vertical-align: top;\n",
       "    }\n",
       "\n",
       "    .dataframe thead th {\n",
       "        text-align: right;\n",
       "    }\n",
       "</style>\n",
       "<table border=\"1\" class=\"dataframe\">\n",
       "  <thead>\n",
       "    <tr style=\"text-align: right;\">\n",
       "      <th></th>\n",
       "      <th>start</th>\n",
       "      <th>end</th>\n",
       "      <th>chrom</th>\n",
       "      <th>fragment_length</th>\n",
       "      <th>fragment_id</th>\n",
       "    </tr>\n",
       "  </thead>\n",
       "  <tbody>\n",
       "    <tr>\n",
       "      <th>0</th>\n",
       "      <td>0</td>\n",
       "      <td>3050049</td>\n",
       "      <td>NC_000067.7</td>\n",
       "      <td>3050049</td>\n",
       "      <td>1</td>\n",
       "    </tr>\n",
       "    <tr>\n",
       "      <th>1</th>\n",
       "      <td>3050049</td>\n",
       "      <td>3050054</td>\n",
       "      <td>NC_000067.7</td>\n",
       "      <td>5</td>\n",
       "      <td>2</td>\n",
       "    </tr>\n",
       "    <tr>\n",
       "      <th>2</th>\n",
       "      <td>3050054</td>\n",
       "      <td>3050842</td>\n",
       "      <td>NC_000067.7</td>\n",
       "      <td>788</td>\n",
       "      <td>3</td>\n",
       "    </tr>\n",
       "    <tr>\n",
       "      <th>3</th>\n",
       "      <td>3050842</td>\n",
       "      <td>3050905</td>\n",
       "      <td>NC_000067.7</td>\n",
       "      <td>63</td>\n",
       "      <td>4</td>\n",
       "    </tr>\n",
       "    <tr>\n",
       "      <th>4</th>\n",
       "      <td>3050905</td>\n",
       "      <td>3050945</td>\n",
       "      <td>NC_000067.7</td>\n",
       "      <td>40</td>\n",
       "      <td>5</td>\n",
       "    </tr>\n",
       "  </tbody>\n",
       "</table>\n",
       "</div>"
      ],
      "text/plain": [
       "     start      end        chrom  fragment_length  fragment_id\n",
       "0        0  3050049  NC_000067.7          3050049            1\n",
       "1  3050049  3050054  NC_000067.7                5            2\n",
       "2  3050054  3050842  NC_000067.7              788            3\n",
       "3  3050842  3050905  NC_000067.7               63            4\n",
       "4  3050905  3050945  NC_000067.7               40            5"
      ]
     },
     "execution_count": 117,
     "metadata": {},
     "output_type": "execute_result"
    }
   ],
   "source": [
    "fdf.head()"
   ]
  },
  {
   "cell_type": "code",
   "execution_count": null,
   "metadata": {},
   "outputs": [],
   "source": []
  },
  {
   "cell_type": "code",
   "execution_count": null,
   "metadata": {},
   "outputs": [],
   "source": []
  },
  {
   "cell_type": "code",
   "execution_count": null,
   "metadata": {},
   "outputs": [],
   "source": []
  },
  {
   "cell_type": "code",
   "execution_count": null,
   "metadata": {},
   "outputs": [],
   "source": []
  },
  {
   "cell_type": "code",
   "execution_count": 13,
   "metadata": {},
   "outputs": [
    {
     "data": {
      "text/plain": [
       "Index(['read_idx', 'align_idx', 'align_type', 'chrom', 'start', 'end',\n",
       "       'strand', 'read_name', 'read_length', 'read_start', 'read_end',\n",
       "       'mapping_quality', 'align_score', 'align_base_qscore', 'phase_set',\n",
       "       'phase_qual', 'haplotype'],\n",
       "      dtype='object')"
      ]
     },
     "execution_count": 13,
     "metadata": {},
     "output_type": "execute_result"
    }
   ],
   "source": [
    "df.columns"
   ]
  },
  {
   "cell_type": "code",
   "execution_count": 99,
   "metadata": {},
   "outputs": [
    {
     "data": {
      "text/plain": [
       "Index(['start', 'end', 'chrom', 'fragment_length', 'fragment_id'], dtype='object')"
      ]
     },
     "execution_count": 99,
     "metadata": {},
     "output_type": "execute_result"
    }
   ],
   "source": [
    "fdf.columns"
   ]
  },
  {
   "cell_type": "code",
   "execution_count": 35,
   "metadata": {},
   "outputs": [
    {
     "data": {
      "text/plain": [
       "<module 'post_align_utils' from '/home/cstansbu/git_repositories/single_cell_poreC/development/post_align_utils.py'>"
      ]
     },
     "execution_count": 35,
     "metadata": {},
     "output_type": "execute_result"
    }
   ],
   "source": [
    "reload(putil)"
   ]
  },
  {
   "cell_type": "code",
   "execution_count": 50,
   "metadata": {},
   "outputs": [
    {
     "name": "stdout",
     "output_type": "stream",
     "text": [
      "(85437, 30)\n"
     ]
    },
    {
     "data": {
      "text/html": [
       "<div>\n",
       "<style scoped>\n",
       "    .dataframe tbody tr th:only-of-type {\n",
       "        vertical-align: middle;\n",
       "    }\n",
       "\n",
       "    .dataframe tbody tr th {\n",
       "        vertical-align: top;\n",
       "    }\n",
       "\n",
       "    .dataframe thead th {\n",
       "        text-align: right;\n",
       "    }\n",
       "</style>\n",
       "<table border=\"1\" class=\"dataframe\">\n",
       "  <thead>\n",
       "    <tr style=\"text-align: right;\">\n",
       "      <th></th>\n",
       "      <th>read_idx</th>\n",
       "      <th>align_idx</th>\n",
       "      <th>align_type</th>\n",
       "      <th>chrom</th>\n",
       "      <th>start</th>\n",
       "      <th>end</th>\n",
       "      <th>strand</th>\n",
       "      <th>read_name</th>\n",
       "      <th>read_length</th>\n",
       "      <th>read_start</th>\n",
       "      <th>...</th>\n",
       "      <th>num_contained_fragments</th>\n",
       "      <th>num_overlapping_fragments</th>\n",
       "      <th>overlap_length</th>\n",
       "      <th>fragment_start</th>\n",
       "      <th>fragment_end</th>\n",
       "      <th>perc_of_alignment</th>\n",
       "      <th>perc_of_fragment</th>\n",
       "      <th>is_contained</th>\n",
       "      <th>align_start</th>\n",
       "      <th>align_end</th>\n",
       "    </tr>\n",
       "  </thead>\n",
       "  <tbody>\n",
       "    <tr>\n",
       "      <th>48467</th>\n",
       "      <td>0</td>\n",
       "      <td>0</td>\n",
       "      <td>primary</td>\n",
       "      <td>NC_000082.7</td>\n",
       "      <td>39409284</td>\n",
       "      <td>39409846</td>\n",
       "      <td>False</td>\n",
       "      <td>916c6a09-32f4-4174-bf48-fa970e6b8329</td>\n",
       "      <td>1443</td>\n",
       "      <td>271</td>\n",
       "      <td>...</td>\n",
       "      <td>2</td>\n",
       "      <td>4</td>\n",
       "      <td>372</td>\n",
       "      <td>39409456</td>\n",
       "      <td>39409828</td>\n",
       "      <td>66.192169</td>\n",
       "      <td>100.000000</td>\n",
       "      <td>True</td>\n",
       "      <td>39409284</td>\n",
       "      <td>39409846</td>\n",
       "    </tr>\n",
       "    <tr>\n",
       "      <th>48468</th>\n",
       "      <td>0</td>\n",
       "      <td>1</td>\n",
       "      <td>primary</td>\n",
       "      <td>NC_000082.7</td>\n",
       "      <td>39207565</td>\n",
       "      <td>39208106</td>\n",
       "      <td>False</td>\n",
       "      <td>916c6a09-32f4-4174-bf48-fa970e6b8329</td>\n",
       "      <td>1443</td>\n",
       "      <td>821</td>\n",
       "      <td>...</td>\n",
       "      <td>0</td>\n",
       "      <td>2</td>\n",
       "      <td>537</td>\n",
       "      <td>39207569</td>\n",
       "      <td>39208525</td>\n",
       "      <td>99.260628</td>\n",
       "      <td>56.171547</td>\n",
       "      <td>False</td>\n",
       "      <td>39207565</td>\n",
       "      <td>39208106</td>\n",
       "    </tr>\n",
       "    <tr>\n",
       "      <th>48466</th>\n",
       "      <td>0</td>\n",
       "      <td>2</td>\n",
       "      <td>primary</td>\n",
       "      <td>NC_000082.7</td>\n",
       "      <td>39406511</td>\n",
       "      <td>39406676</td>\n",
       "      <td>False</td>\n",
       "      <td>916c6a09-32f4-4174-bf48-fa970e6b8329</td>\n",
       "      <td>1443</td>\n",
       "      <td>57</td>\n",
       "      <td>...</td>\n",
       "      <td>1</td>\n",
       "      <td>2</td>\n",
       "      <td>128</td>\n",
       "      <td>39406426</td>\n",
       "      <td>39406639</td>\n",
       "      <td>77.575760</td>\n",
       "      <td>60.093895</td>\n",
       "      <td>False</td>\n",
       "      <td>39406511</td>\n",
       "      <td>39406676</td>\n",
       "    </tr>\n",
       "    <tr>\n",
       "      <th>47660</th>\n",
       "      <td>1</td>\n",
       "      <td>3</td>\n",
       "      <td>primary</td>\n",
       "      <td>NC_000069.7</td>\n",
       "      <td>47002317</td>\n",
       "      <td>47003214</td>\n",
       "      <td>True</td>\n",
       "      <td>8eaf88d8-6d21-4643-9df9-592fd00e134d</td>\n",
       "      <td>5414</td>\n",
       "      <td>3813</td>\n",
       "      <td>...</td>\n",
       "      <td>0</td>\n",
       "      <td>2</td>\n",
       "      <td>893</td>\n",
       "      <td>47002321</td>\n",
       "      <td>47003770</td>\n",
       "      <td>99.554070</td>\n",
       "      <td>61.628708</td>\n",
       "      <td>False</td>\n",
       "      <td>47002317</td>\n",
       "      <td>47003214</td>\n",
       "    </tr>\n",
       "    <tr>\n",
       "      <th>47661</th>\n",
       "      <td>1</td>\n",
       "      <td>4</td>\n",
       "      <td>primary</td>\n",
       "      <td>NC_000069.7</td>\n",
       "      <td>47002317</td>\n",
       "      <td>47003214</td>\n",
       "      <td>True</td>\n",
       "      <td>8eaf88d8-6d21-4643-9df9-592fd00e134d</td>\n",
       "      <td>5414</td>\n",
       "      <td>2131</td>\n",
       "      <td>...</td>\n",
       "      <td>0</td>\n",
       "      <td>2</td>\n",
       "      <td>893</td>\n",
       "      <td>47002321</td>\n",
       "      <td>47003770</td>\n",
       "      <td>99.554070</td>\n",
       "      <td>61.628708</td>\n",
       "      <td>False</td>\n",
       "      <td>47002317</td>\n",
       "      <td>47003214</td>\n",
       "    </tr>\n",
       "  </tbody>\n",
       "</table>\n",
       "<p>5 rows × 30 columns</p>\n",
       "</div>"
      ],
      "text/plain": [
       "       read_idx  align_idx align_type        chrom     start       end  \\\n",
       "48467         0          0    primary  NC_000082.7  39409284  39409846   \n",
       "48468         0          1    primary  NC_000082.7  39207565  39208106   \n",
       "48466         0          2    primary  NC_000082.7  39406511  39406676   \n",
       "47660         1          3    primary  NC_000069.7  47002317  47003214   \n",
       "47661         1          4    primary  NC_000069.7  47002317  47003214   \n",
       "\n",
       "       strand                             read_name  read_length  read_start  \\\n",
       "48467   False  916c6a09-32f4-4174-bf48-fa970e6b8329         1443         271   \n",
       "48468   False  916c6a09-32f4-4174-bf48-fa970e6b8329         1443         821   \n",
       "48466   False  916c6a09-32f4-4174-bf48-fa970e6b8329         1443          57   \n",
       "47660    True  8eaf88d8-6d21-4643-9df9-592fd00e134d         5414        3813   \n",
       "47661    True  8eaf88d8-6d21-4643-9df9-592fd00e134d         5414        2131   \n",
       "\n",
       "       ...  num_contained_fragments  num_overlapping_fragments  \\\n",
       "48467  ...                        2                          4   \n",
       "48468  ...                        0                          2   \n",
       "48466  ...                        1                          2   \n",
       "47660  ...                        0                          2   \n",
       "47661  ...                        0                          2   \n",
       "\n",
       "       overlap_length  fragment_start  fragment_end  perc_of_alignment  \\\n",
       "48467             372        39409456      39409828          66.192169   \n",
       "48468             537        39207569      39208525          99.260628   \n",
       "48466             128        39406426      39406639          77.575760   \n",
       "47660             893        47002321      47003770          99.554070   \n",
       "47661             893        47002321      47003770          99.554070   \n",
       "\n",
       "       perc_of_fragment  is_contained align_start  align_end  \n",
       "48467        100.000000          True    39409284   39409846  \n",
       "48468         56.171547         False    39207565   39208106  \n",
       "48466         60.093895         False    39406511   39406676  \n",
       "47660         61.628708         False    47002317   47003214  \n",
       "47661         61.628708         False    47002317   47003214  \n",
       "\n",
       "[5 rows x 30 columns]"
      ]
     },
     "execution_count": 50,
     "metadata": {},
     "output_type": "execute_result"
    }
   ],
   "source": [
    "pore_c = assign_fragments(df, fdf)\n",
    "print(pore_c.shape)\n",
    "pore_c.head()"
   ]
  },
  {
   "cell_type": "code",
   "execution_count": null,
   "metadata": {},
   "outputs": [],
   "source": []
  }
 ],
 "metadata": {
  "kernelspec": {
   "display_name": "Python 3",
   "language": "python",
   "name": "python3"
  },
  "language_info": {
   "codemirror_mode": {
    "name": "ipython",
    "version": 3
   },
   "file_extension": ".py",
   "mimetype": "text/x-python",
   "name": "python",
   "nbconvert_exporter": "python",
   "pygments_lexer": "ipython3",
   "version": "3.8.3"
  }
 },
 "nbformat": 4,
 "nbformat_minor": 4
}
