{
 "cells": [
  {
   "cell_type": "code",
   "execution_count": 44,
   "metadata": {},
   "outputs": [],
   "source": [
    "import pandas as pd\n",
    "import numpy as np\n",
    "import os\n",
    "import sys\n",
    "from importlib import reload\n",
    "\n",
    "import matplotlib\n",
    "import matplotlib.pyplot as plt\n",
    "import seaborn as sns\n",
    "\n",
    "\n",
    "sys.path.append(\"../\")\n",
    "from kung_paohvis import file_io as _io\n",
    "from kung_paohvis import read_filters as _rf"
   ]
  },
  {
   "cell_type": "code",
   "execution_count": 51,
   "metadata": {},
   "outputs": [],
   "source": [
    "# reload(_io)\n",
    "# reload(_rf)\n",
    "\n",
    "\n",
    "# PARQUET_DIRECTORY = 'ParquetExtraction/02'\n",
    "# ASSEMBLY_FILEPATH = '../kung_paohvis/GRCm39_Assembly.csv'\n",
    "# CHROMOSOME = 19\n",
    "# FILTER_N_FRAGMENT = 1\n",
    "# FRAGMENT_CRITERION = 'perc_of_alignment'\n",
    "# N_TOP_READS = 2\n",
    "\n",
    "\n",
    "# assembly = _io.read_assembly(ASSEMBLY_FILEPATH)\n",
    "# df = _io.read_parquet_dir(PARQUET_DIRECTORY)\n",
    "# df = _rf.map_chromosome_names(df, assembly)\n",
    "# df = _rf.add_fragment_midpoints(df) # compute mid points\n",
    "# df = _rf.subset_chromosome(df, CHROMOSOME) # get a single chromosome\n",
    "# df = _rf.drop_low_fragment_count_reads(df, n=FILTER_N_FRAGMENT) # drop reads with low fragment counts\n",
    "# df = _rf.per_read_filter(df, FRAGMENT_CRITERION, verbose=1) # filter for duplicate within read fragments \n",
    "# df = _rf.get_maximal_reads(df, N_TOP_READS) # filter for reads spanning the same fragments\n",
    "\n",
    "# df.shape"
   ]
  },
  {
   "cell_type": "code",
   "execution_count": 74,
   "metadata": {},
   "outputs": [
    {
     "data": {
      "text/html": [
       "<div>\n",
       "<style scoped>\n",
       "    .dataframe tbody tr th:only-of-type {\n",
       "        vertical-align: middle;\n",
       "    }\n",
       "\n",
       "    .dataframe tbody tr th {\n",
       "        vertical-align: top;\n",
       "    }\n",
       "\n",
       "    .dataframe thead th {\n",
       "        text-align: right;\n",
       "    }\n",
       "</style>\n",
       "<table border=\"1\" class=\"dataframe\">\n",
       "  <thead>\n",
       "    <tr style=\"text-align: right;\">\n",
       "      <th></th>\n",
       "      <th>read_idx</th>\n",
       "      <th>first_fragment</th>\n",
       "      <th>last_fragment</th>\n",
       "      <th>fragment_id</th>\n",
       "      <th>n_fragments</th>\n",
       "    </tr>\n",
       "  </thead>\n",
       "  <tbody>\n",
       "    <tr>\n",
       "      <th>168</th>\n",
       "      <td>18870</td>\n",
       "      <td>11504729</td>\n",
       "      <td>11504733</td>\n",
       "      <td>11504733</td>\n",
       "      <td>3</td>\n",
       "    </tr>\n",
       "    <tr>\n",
       "      <th>169</th>\n",
       "      <td>18870</td>\n",
       "      <td>11504729</td>\n",
       "      <td>11504733</td>\n",
       "      <td>11504732</td>\n",
       "      <td>3</td>\n",
       "    </tr>\n",
       "    <tr>\n",
       "      <th>170</th>\n",
       "      <td>18870</td>\n",
       "      <td>11504729</td>\n",
       "      <td>11504733</td>\n",
       "      <td>11504729</td>\n",
       "      <td>3</td>\n",
       "    </tr>\n",
       "  </tbody>\n",
       "</table>\n",
       "</div>"
      ],
      "text/plain": [
       "     read_idx  first_fragment  last_fragment  fragment_id  n_fragments\n",
       "168     18870        11504729       11504733     11504733            3\n",
       "169     18870        11504729       11504733     11504732            3\n",
       "170     18870        11504729       11504733     11504729            3"
      ]
     },
     "execution_count": 74,
     "metadata": {},
     "output_type": "execute_result"
    }
   ],
   "source": [
    "df = pd.read_csv('../outputs/cleaned_reads_2021-07-07.csv')\n",
    "\n",
    "first = 11504729\n",
    "last = 11504733\n",
    "tmp = df[(df['first_fragment'] == first) & (df['last_fragment'] == last)]\n",
    "# tmp = df[(df['first_fragment'] == first) ]\n",
    "\n",
    "tmp[['read_idx', 'first_fragment', 'last_fragment', 'fragment_id', 'n_fragments']]"
   ]
  },
  {
   "cell_type": "code",
   "execution_count": null,
   "metadata": {},
   "outputs": [],
   "source": []
  }
 ],
 "metadata": {
  "kernelspec": {
   "display_name": "Python 3",
   "language": "python",
   "name": "python3"
  },
  "language_info": {
   "codemirror_mode": {
    "name": "ipython",
    "version": 3
   },
   "file_extension": ".py",
   "mimetype": "text/x-python",
   "name": "python",
   "nbconvert_exporter": "python",
   "pygments_lexer": "ipython3",
   "version": "3.8.3"
  }
 },
 "nbformat": 4,
 "nbformat_minor": 4
}
