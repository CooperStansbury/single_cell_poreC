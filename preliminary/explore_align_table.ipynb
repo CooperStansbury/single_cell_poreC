{
 "cells": [
  {
   "cell_type": "code",
   "execution_count": 43,
   "metadata": {},
   "outputs": [],
   "source": [
    "import pandas as pd\n",
    "import numpy as np\n",
    "from importlib import reload\n",
    "\n",
    "import matplotlib\n",
    "import matplotlib.pyplot as plt\n",
    "import seaborn as sns\n",
    "\n",
    "# locals\n",
    "import edge_builder as _eb"
   ]
  },
  {
   "cell_type": "code",
   "execution_count": 212,
   "metadata": {},
   "outputs": [],
   "source": [
    "# load data\n",
    "reload(_eb)\n",
    "\n",
    "# ALIGNMENT_DATA_PATH = 'run02/bc11_run02_all.csv'\n",
    "ALIGNMENT_DATA_PATH = 'problem_region/aligns_example_problem.csv'\n",
    "OUTPUT_NAME = 'clean_aligns_example_problem'\n",
    "CHROMOSOME = 19\n",
    "FILTER_N_FRAGMENT = 1\n",
    "FRAGMENT_CRITERION = 'perc_of_alignment'\n",
    "N_TOP_READS = 2\n",
    "\n",
    "df = _eb.load_alignments_from_csv(ALIGNMENT_DATA_PATH) # load raw\n",
    "df = _eb.add_fragment_midpoints(df) # compute mid points\n",
    "df = _eb.subset_chromosome(df, CHROMOSOME) # get a single chromosome\n",
    "df = _eb.drop_low_fragment_count_reads(df, n=FILTER_N_FRAGMENT) # drop reads with low fragment counts\n",
    "df = _eb.per_read_filter(df, FRAGMENT_CRITERION, verbose=1) # filter for duplicate within read fragments \n",
    "df = _eb.get_maximal_reads(df, N_TOP_READS) # filter for reads spanning the same fragments\n",
    "df.to_csv(OUTPUT_NAM, index=False)\n",
    "\n",
    "# pao_df = _eb.build_paohvis_output(df)\n",
    "# pao_df.to_csv('run02_bc11_fixed_all.csv', index=False)"
   ]
  },
  {
   "cell_type": "code",
   "execution_count": 214,
   "metadata": {},
   "outputs": [],
   "source": [
    "# reload(_eb)\n",
    "# res = _eb.report_alignments(df)\n",
    "# res.round(3)"
   ]
  },
  {
   "cell_type": "code",
   "execution_count": 198,
   "metadata": {},
   "outputs": [
    {
     "data": {
      "text/plain": [
       "Index(['index', 'runID', 'barcode', 'read_idx', 'align_idx', 'align_type',\n",
       "       'chrom', 'xStart', 'xEnd', 'strand', 'read_name', 'read_length',\n",
       "       'read_start', 'read_end', 'mapping_quality', 'align_score',\n",
       "       'align_base_qscore', 'phase_set', 'phase_qual', 'haplotype',\n",
       "       'pass_filter', 'filter_reason', 'fragment_id',\n",
       "       'num_contained_fragments', 'num_overlapping_fragments',\n",
       "       'overlap_length', 'fragment_start', 'fragment_end', 'perc_of_alignment',\n",
       "       'perc_of_fragment', 'fragment_mean', 'rid', 'read_min', 'read_max',\n",
       "       'n_fragments', 'first_fragment', 'last_fragment'],\n",
       "      dtype='object')"
      ]
     },
     "execution_count": 198,
     "metadata": {},
     "output_type": "execute_result"
    }
   ],
   "source": [
    "df.columns\n",
    "    "
   ]
  },
  {
   "cell_type": "code",
   "execution_count": null,
   "metadata": {},
   "outputs": [],
   "source": []
  },
  {
   "cell_type": "code",
   "execution_count": null,
   "metadata": {},
   "outputs": [],
   "source": []
  },
  {
   "cell_type": "code",
   "execution_count": null,
   "metadata": {},
   "outputs": [],
   "source": []
  },
  {
   "cell_type": "code",
   "execution_count": null,
   "metadata": {},
   "outputs": [],
   "source": []
  },
  {
   "cell_type": "code",
   "execution_count": null,
   "metadata": {},
   "outputs": [],
   "source": []
  },
  {
   "cell_type": "code",
   "execution_count": null,
   "metadata": {},
   "outputs": [],
   "source": []
  },
  {
   "cell_type": "code",
   "execution_count": null,
   "metadata": {},
   "outputs": [],
   "source": []
  },
  {
   "cell_type": "code",
   "execution_count": null,
   "metadata": {},
   "outputs": [],
   "source": []
  },
  {
   "cell_type": "code",
   "execution_count": null,
   "metadata": {},
   "outputs": [],
   "source": []
  },
  {
   "cell_type": "code",
   "execution_count": null,
   "metadata": {},
   "outputs": [],
   "source": []
  }
 ],
 "metadata": {
  "kernelspec": {
   "display_name": "Python 3",
   "language": "python",
   "name": "python3"
  },
  "language_info": {
   "codemirror_mode": {
    "name": "ipython",
    "version": 3
   },
   "file_extension": ".py",
   "mimetype": "text/x-python",
   "name": "python",
   "nbconvert_exporter": "python",
   "pygments_lexer": "ipython3",
   "version": "3.8.3"
  }
 },
 "nbformat": 4,
 "nbformat_minor": 4
}
